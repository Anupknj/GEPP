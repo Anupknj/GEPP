{
 "cells": [
  {
   "cell_type": "code",
   "execution_count": 43,
   "metadata": {},
   "outputs": [],
   "source": [
    "import numpy as np\n",
    "from numpy import linalg as LA\n",
    "from scipy.linalg import lu\n",
    "\n",
    "\n",
    "# below is the code for GEPP without any library\n",
    "\n",
    "def GEPP(A, b, pivot = True):\n",
    "   \n",
    "    n = len(A)\n",
    "    if b.size != n:\n",
    "        raise ValueError(\"size error\", b.size, n)\n",
    "    # k represents the current pivot row. \n",
    "    \n",
    "    # Elimination\n",
    "    for k in range(n-1):\n",
    "        if pivot:\n",
    "            # Pivot\n",
    "            max_element = abs(A[k:,k]).argmax() + k\n",
    "            \n",
    "            # Swap\n",
    "            if max_element != k:\n",
    "                A[[k,max_element]] = A[[max_element, k]]\n",
    "                b[[k,max_element]] = b[[max_element, k]]\n",
    "        else:\n",
    "\n",
    "            pass\n",
    "        #Eliminate\n",
    "        for r in range(k+1, n):\n",
    "            mult = A[r,k]/A[k,k]\n",
    "            A[r, k:] = A[r, k:] - mult*A[k, k:]\n",
    "            b[r] = b[r] - mult*b[k]\n",
    "    # Back Substitution\n",
    "    x = np.zeros(n)\n",
    "    for k in range(n-1, -1, -1):\n",
    "        x[k] = (b[k] - np.dot(A[k,k+1:],x[k+1:]))/A[k,k]\n",
    "    return np.array(x)\n"
   ]
  },
  {
   "cell_type": "code",
   "execution_count": 88,
   "metadata": {},
   "outputs": [],
   "source": [
    "#below is the code for GEPP with library\n",
    "\n",
    "def GEPP_with_lib( A, b):\n",
    "    x = np.linalg.solve(np.linalg.inv(A),b)   \n",
    "    return x"
   ]
  },
  {
   "cell_type": "code",
   "execution_count": 90,
   "metadata": {},
   "outputs": [
    {
     "name": "stdout",
     "output_type": "stream",
     "text": [
      "-90146.17617542879\n",
      "-243259.04576485872\n",
      "-215160.17376701097\n",
      "-210513.73250964592\n",
      "-254285.63177888168\n"
     ]
    }
   ],
   "source": [
    "# set size, fix A and keep b random. And check for x using both function and to compare norm is being used\n",
    "size_of_mat = 100\n",
    "A = np.random.randint(low =1,high = 100, size=(size_of_mat, size_of_mat))\n",
    "\n",
    "for i in range(5):\n",
    "    b = np.random.randint(low =1,high = 100, size=(size_of_mat, 1))\n",
    "    a_no_lib = (GEPP(A,b))\n",
    "#     print(a_no_lib)\n",
    "    a_lib = (GEPP_with_lib(A,b))\n",
    "#     print(a_lib)\n",
    "    \n",
    "    nl = (LA.norm(a_no_lib, np.inf))\n",
    "    l = (LA.norm(a_lib, np.inf))\n",
    "    print(nl - l)\n",
    "    \n",
    "    \n",
    "    "
   ]
  },
  {
   "cell_type": "code",
   "execution_count": null,
   "metadata": {},
   "outputs": [],
   "source": []
  }
 ],
 "metadata": {
  "kernelspec": {
   "display_name": "Python 3",
   "language": "python",
   "name": "python3"
  },
  "language_info": {
   "codemirror_mode": {
    "name": "ipython",
    "version": 3
   },
   "file_extension": ".py",
   "mimetype": "text/x-python",
   "name": "python",
   "nbconvert_exporter": "python",
   "pygments_lexer": "ipython3",
   "version": "3.7.4"
  }
 },
 "nbformat": 4,
 "nbformat_minor": 2
}
